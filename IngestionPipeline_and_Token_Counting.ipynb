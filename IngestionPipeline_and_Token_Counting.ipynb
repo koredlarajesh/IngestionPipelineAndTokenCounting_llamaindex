{
  "nbformat": 4,
  "nbformat_minor": 0,
  "metadata": {
    "colab": {
      "provenance": [],
      "gpuType": "T4"
    },
    "kernelspec": {
      "name": "python3",
      "display_name": "Python 3"
    },
    "language_info": {
      "name": "python"
    },
    "accelerator": "GPU"
  },
  "cells": [
    {
      "cell_type": "markdown",
      "source": [
        "## Ingestion Pipeline and Token Counting\n",
        "following topics covered in this notebook\n",
        "\n",
        "1. Ingestion pipeline in llama_index\n",
        "2. Transoformation Caching Memory\n",
        "3. Custom Transformations\n",
        "4. Tokenizatioan and Token Counting"
      ],
      "metadata": {
        "id": "04S-ikaukVHe"
      }
    },
    {
      "cell_type": "code",
      "execution_count": 36,
      "metadata": {
        "colab": {
          "base_uri": "https://localhost:8080/"
        },
        "id": "KnltoUN-MIix",
        "outputId": "db18c3a0-d541-4dc3-a786-6aed11b26857"
      },
      "outputs": [
        {
          "output_type": "stream",
          "name": "stdout",
          "text": [
            "Requirement already satisfied: llama_index in /usr/local/lib/python3.10/dist-packages (0.9.39)\n",
            "Requirement already satisfied: SQLAlchemy[asyncio]>=1.4.49 in /usr/local/lib/python3.10/dist-packages (from llama_index) (2.0.24)\n",
            "Requirement already satisfied: aiohttp<4.0.0,>=3.8.6 in /usr/local/lib/python3.10/dist-packages (from llama_index) (3.9.1)\n",
            "Requirement already satisfied: dataclasses-json in /usr/local/lib/python3.10/dist-packages (from llama_index) (0.6.3)\n",
            "Requirement already satisfied: deprecated>=1.2.9.3 in /usr/local/lib/python3.10/dist-packages (from llama_index) (1.2.14)\n",
            "Requirement already satisfied: fsspec>=2023.5.0 in /usr/local/lib/python3.10/dist-packages (from llama_index) (2023.6.0)\n",
            "Requirement already satisfied: httpx in /usr/local/lib/python3.10/dist-packages (from llama_index) (0.26.0)\n",
            "Requirement already satisfied: nest-asyncio<2.0.0,>=1.5.8 in /usr/local/lib/python3.10/dist-packages (from llama_index) (1.6.0)\n",
            "Requirement already satisfied: networkx>=3.0 in /usr/local/lib/python3.10/dist-packages (from llama_index) (3.2.1)\n",
            "Requirement already satisfied: nltk<4.0.0,>=3.8.1 in /usr/local/lib/python3.10/dist-packages (from llama_index) (3.8.1)\n",
            "Requirement already satisfied: numpy in /usr/local/lib/python3.10/dist-packages (from llama_index) (1.23.5)\n",
            "Requirement already satisfied: openai>=1.1.0 in /usr/local/lib/python3.10/dist-packages (from llama_index) (1.10.0)\n",
            "Requirement already satisfied: pandas in /usr/local/lib/python3.10/dist-packages (from llama_index) (1.5.3)\n",
            "Requirement already satisfied: requests>=2.31.0 in /usr/local/lib/python3.10/dist-packages (from llama_index) (2.31.0)\n",
            "Requirement already satisfied: tenacity<9.0.0,>=8.2.0 in /usr/local/lib/python3.10/dist-packages (from llama_index) (8.2.3)\n",
            "Requirement already satisfied: tiktoken>=0.3.3 in /usr/local/lib/python3.10/dist-packages (from llama_index) (0.5.2)\n",
            "Requirement already satisfied: typing-extensions>=4.5.0 in /usr/local/lib/python3.10/dist-packages (from llama_index) (4.9.0)\n",
            "Requirement already satisfied: typing-inspect>=0.8.0 in /usr/local/lib/python3.10/dist-packages (from llama_index) (0.9.0)\n",
            "Requirement already satisfied: attrs>=17.3.0 in /usr/local/lib/python3.10/dist-packages (from aiohttp<4.0.0,>=3.8.6->llama_index) (23.2.0)\n",
            "Requirement already satisfied: multidict<7.0,>=4.5 in /usr/local/lib/python3.10/dist-packages (from aiohttp<4.0.0,>=3.8.6->llama_index) (6.0.4)\n",
            "Requirement already satisfied: yarl<2.0,>=1.0 in /usr/local/lib/python3.10/dist-packages (from aiohttp<4.0.0,>=3.8.6->llama_index) (1.9.4)\n",
            "Requirement already satisfied: frozenlist>=1.1.1 in /usr/local/lib/python3.10/dist-packages (from aiohttp<4.0.0,>=3.8.6->llama_index) (1.4.1)\n",
            "Requirement already satisfied: aiosignal>=1.1.2 in /usr/local/lib/python3.10/dist-packages (from aiohttp<4.0.0,>=3.8.6->llama_index) (1.3.1)\n",
            "Requirement already satisfied: async-timeout<5.0,>=4.0 in /usr/local/lib/python3.10/dist-packages (from aiohttp<4.0.0,>=3.8.6->llama_index) (4.0.3)\n",
            "Requirement already satisfied: wrapt<2,>=1.10 in /usr/local/lib/python3.10/dist-packages (from deprecated>=1.2.9.3->llama_index) (1.14.1)\n",
            "Requirement already satisfied: click in /usr/local/lib/python3.10/dist-packages (from nltk<4.0.0,>=3.8.1->llama_index) (8.1.7)\n",
            "Requirement already satisfied: joblib in /usr/local/lib/python3.10/dist-packages (from nltk<4.0.0,>=3.8.1->llama_index) (1.3.2)\n",
            "Requirement already satisfied: regex>=2021.8.3 in /usr/local/lib/python3.10/dist-packages (from nltk<4.0.0,>=3.8.1->llama_index) (2023.6.3)\n",
            "Requirement already satisfied: tqdm in /usr/local/lib/python3.10/dist-packages (from nltk<4.0.0,>=3.8.1->llama_index) (4.66.1)\n",
            "Requirement already satisfied: anyio<5,>=3.5.0 in /usr/local/lib/python3.10/dist-packages (from openai>=1.1.0->llama_index) (3.7.1)\n",
            "Requirement already satisfied: distro<2,>=1.7.0 in /usr/lib/python3/dist-packages (from openai>=1.1.0->llama_index) (1.7.0)\n",
            "Requirement already satisfied: pydantic<3,>=1.9.0 in /usr/local/lib/python3.10/dist-packages (from openai>=1.1.0->llama_index) (1.10.14)\n",
            "Requirement already satisfied: sniffio in /usr/local/lib/python3.10/dist-packages (from openai>=1.1.0->llama_index) (1.3.0)\n",
            "Requirement already satisfied: certifi in /usr/local/lib/python3.10/dist-packages (from httpx->llama_index) (2023.11.17)\n",
            "Requirement already satisfied: httpcore==1.* in /usr/local/lib/python3.10/dist-packages (from httpx->llama_index) (1.0.2)\n",
            "Requirement already satisfied: idna in /usr/local/lib/python3.10/dist-packages (from httpx->llama_index) (3.6)\n",
            "Requirement already satisfied: h11<0.15,>=0.13 in /usr/local/lib/python3.10/dist-packages (from httpcore==1.*->httpx->llama_index) (0.14.0)\n",
            "Requirement already satisfied: charset-normalizer<4,>=2 in /usr/local/lib/python3.10/dist-packages (from requests>=2.31.0->llama_index) (3.3.2)\n",
            "Requirement already satisfied: urllib3<3,>=1.21.1 in /usr/local/lib/python3.10/dist-packages (from requests>=2.31.0->llama_index) (2.0.7)\n",
            "Requirement already satisfied: greenlet!=0.4.17 in /usr/local/lib/python3.10/dist-packages (from SQLAlchemy[asyncio]>=1.4.49->llama_index) (3.0.3)\n",
            "Requirement already satisfied: mypy-extensions>=0.3.0 in /usr/local/lib/python3.10/dist-packages (from typing-inspect>=0.8.0->llama_index) (1.0.0)\n",
            "Requirement already satisfied: marshmallow<4.0.0,>=3.18.0 in /usr/local/lib/python3.10/dist-packages (from dataclasses-json->llama_index) (3.20.2)\n",
            "Requirement already satisfied: python-dateutil>=2.8.1 in /usr/local/lib/python3.10/dist-packages (from pandas->llama_index) (2.8.2)\n",
            "Requirement already satisfied: pytz>=2020.1 in /usr/local/lib/python3.10/dist-packages (from pandas->llama_index) (2023.3.post1)\n",
            "Requirement already satisfied: exceptiongroup in /usr/local/lib/python3.10/dist-packages (from anyio<5,>=3.5.0->openai>=1.1.0->llama_index) (1.2.0)\n",
            "Requirement already satisfied: packaging>=17.0 in /usr/local/lib/python3.10/dist-packages (from marshmallow<4.0.0,>=3.18.0->dataclasses-json->llama_index) (23.2)\n",
            "Requirement already satisfied: six>=1.5 in /usr/local/lib/python3.10/dist-packages (from python-dateutil>=2.8.1->pandas->llama_index) (1.16.0)\n"
          ]
        }
      ],
      "source": [
        "!pip install llama_index"
      ]
    },
    {
      "cell_type": "code",
      "source": [
        "import os\n",
        "os.environ[\"OPENAI_API_KEY\"]=\"sk-xxxxxxxxxxxxxxxxxxxxxxxxxxxxxxxxxxxx\""
      ],
      "metadata": {
        "id": "XAUI2h1NM3hr"
      },
      "execution_count": 37,
      "outputs": []
    },
    {
      "cell_type": "code",
      "source": [
        "import nest_asyncio\n",
        "nest_asyncio.apply()"
      ],
      "metadata": {
        "id": "P0AbMNbPNxJf"
      },
      "execution_count": 38,
      "outputs": []
    },
    {
      "cell_type": "code",
      "source": [
        "!mkdir data\n",
        "from llama_index.llama_dataset import download_llama_dataset\n",
        "from llama_index.llama_pack import download_llama_pack\n",
        "from llama_index import VectorStoreIndex\n",
        "\n",
        "# download and install dependencies for benchmark dataset\n",
        "rag_dataset, documents = download_llama_dataset(\n",
        "  \"PaulGrahamEssayDataset\", \"./data\"\n",
        ")"
      ],
      "metadata": {
        "colab": {
          "base_uri": "https://localhost:8080/"
        },
        "id": "c-yCH0bLN5C0",
        "outputId": "ac6b865e-8146-4b69-cbd8-3b3353e2620d"
      },
      "execution_count": 39,
      "outputs": [
        {
          "output_type": "stream",
          "name": "stdout",
          "text": [
            "mkdir: cannot create directory ‘data’: File exists\n"
          ]
        }
      ]
    },
    {
      "cell_type": "markdown",
      "source": [
        "# Ingestion Pipeline\n",
        "\n",
        " 1. Text splitter\n",
        " 2. node parser\n",
        " 3. metadata extractor\n",
        " 4. embedding model"
      ],
      "metadata": {
        "id": "eqzOntPIlWA7"
      }
    },
    {
      "cell_type": "code",
      "source": [
        "from llama_index import Document\n",
        "from llama_index.embeddings import OpenAIEmbedding\n",
        "from llama_index.text_splitter import SentenceSplitter\n",
        "from llama_index.extractors import TitleExtractor\n",
        "from llama_index.ingestion import IngestionPipeline"
      ],
      "metadata": {
        "id": "9VR9zqkYOOnR"
      },
      "execution_count": 73,
      "outputs": []
    },
    {
      "cell_type": "code",
      "source": [
        "pipeline=IngestionPipeline(\n",
        "    transformations=[\n",
        "        SentenceSplitter(chunk_size=256,chunk_overlap=128)\n",
        "    ]\n",
        ")\n",
        "nodes=pipeline.run(documents=documents)"
      ],
      "metadata": {
        "id": "iFOsAwkIPAID"
      },
      "execution_count": 41,
      "outputs": []
    },
    {
      "cell_type": "code",
      "source": [
        "len(nodes)"
      ],
      "metadata": {
        "colab": {
          "base_uri": "https://localhost:8080/"
        },
        "id": "FnXCrRV4PbGt",
        "outputId": "446722c0-0bf0-41eb-fcd7-caf9e03a092d"
      },
      "execution_count": 42,
      "outputs": [
        {
          "output_type": "execute_result",
          "data": {
            "text/plain": [
              "147"
            ]
          },
          "metadata": {},
          "execution_count": 42
        }
      ]
    },
    {
      "cell_type": "code",
      "source": [
        "nodes[0]"
      ],
      "metadata": {
        "colab": {
          "base_uri": "https://localhost:8080/"
        },
        "id": "wrM95Q_sPdnG",
        "outputId": "6eaa0a90-7a37-498a-d1cc-41c351d623cf"
      },
      "execution_count": 43,
      "outputs": [
        {
          "output_type": "execute_result",
          "data": {
            "text/plain": [
              "TextNode(id_='beaf5cb8-1b36-44ba-b5ee-cd655435be11', embedding=None, metadata={'file_path': 'data/source_files/source.txt', 'file_name': 'source.txt', 'file_type': 'text/plain', 'file_size': 75084, 'creation_date': '2024-01-27', 'last_modified_date': '2024-01-27', 'last_accessed_date': '2024-01-27'}, excluded_embed_metadata_keys=['file_name', 'file_type', 'file_size', 'creation_date', 'last_modified_date', 'last_accessed_date'], excluded_llm_metadata_keys=['file_name', 'file_type', 'file_size', 'creation_date', 'last_modified_date', 'last_accessed_date'], relationships={<NodeRelationship.SOURCE: '1'>: RelatedNodeInfo(node_id='f57958a6-6928-4aa2-888d-3d6cc912f282', node_type=<ObjectType.DOCUMENT: '4'>, metadata={'file_path': 'data/source_files/source.txt', 'file_name': 'source.txt', 'file_type': 'text/plain', 'file_size': 75084, 'creation_date': '2024-01-27', 'last_modified_date': '2024-01-27', 'last_accessed_date': '2024-01-27'}, hash='59bda86706b709582b593684a2383c8e20b73cfba8789b5fc65b0e9d429c4989'), <NodeRelationship.NEXT: '3'>: RelatedNodeInfo(node_id='317ed8e4-e9c3-4ad2-bc8b-c2f87db1a5fd', node_type=<ObjectType.TEXT: '1'>, metadata={}, hash='127b30cbd15b465eef3724503eff8f9a418323a7ae38fb1f75294a0fd7efebcd')}, text='What I Worked On\\n\\nFebruary 2021\\n\\nBefore college the two main things I worked on, outside of school, were writing and programming. I didn\\'t write essays. I wrote what beginning writers were supposed to write then, and probably still are: short stories. My stories were awful. They had hardly any plot, just characters with strong feelings, which I imagined made them deep.\\n\\nThe first programs I tried writing were on the IBM 1401 that our school district used for what was then called \"data processing.\" This was in 9th grade, so I was 13 or 14. The school district\\'s 1401 happened to be in the basement of our junior high school, and my friend Rich Draves and I got permission to use it. It was like a mini Bond villain\\'s lair down there, with all these alien-looking machines â\\x80\\x94 CPU, disk drives, printer, card reader â\\x80\\x94 sitting up on a raised floor under bright fluorescent lights.\\n\\nThe language we used was an early version of Fortran.', start_char_idx=2, end_char_idx=942, text_template='{metadata_str}\\n\\n{content}', metadata_template='{key}: {value}', metadata_seperator='\\n')"
            ]
          },
          "metadata": {},
          "execution_count": 43
        }
      ]
    },
    {
      "cell_type": "code",
      "source": [
        "nodes[0].metadata"
      ],
      "metadata": {
        "colab": {
          "base_uri": "https://localhost:8080/"
        },
        "id": "iaDsWwNiPfZh",
        "outputId": "7bddfa4d-3549-4551-87c9-8a3d4a44f8cd"
      },
      "execution_count": 44,
      "outputs": [
        {
          "output_type": "execute_result",
          "data": {
            "text/plain": [
              "{'file_path': 'data/source_files/source.txt',\n",
              " 'file_name': 'source.txt',\n",
              " 'file_type': 'text/plain',\n",
              " 'file_size': 75084,\n",
              " 'creation_date': '2024-01-27',\n",
              " 'last_modified_date': '2024-01-27',\n",
              " 'last_accessed_date': '2024-01-27'}"
            ]
          },
          "metadata": {},
          "execution_count": 44
        }
      ]
    },
    {
      "cell_type": "code",
      "source": [
        "pipeline=IngestionPipeline(\n",
        "    transformations =[\n",
        "        SentenceSplitter(chunk_size=256,chunk_overlap=128),\n",
        "        TitleExtractor()\n",
        "    ]\n",
        ")\n",
        "nodes=pipeline.run(documents=documents)"
      ],
      "metadata": {
        "colab": {
          "base_uri": "https://localhost:8080/"
        },
        "id": "_klQet3FPkSG",
        "outputId": "940bb8cd-1323-4f33-9aae-f9f41d318bc3"
      },
      "execution_count": 45,
      "outputs": [
        {
          "output_type": "stream",
          "name": "stderr",
          "text": [
            "100%|██████████| 5/5 [00:41<00:00,  8.39s/it]\n"
          ]
        }
      ]
    },
    {
      "cell_type": "code",
      "source": [
        "nodes[0].metadata"
      ],
      "metadata": {
        "colab": {
          "base_uri": "https://localhost:8080/"
        },
        "id": "KzAS667XQOp9",
        "outputId": "2e20a870-6f8a-402c-c27d-0c749f4ffb62"
      },
      "execution_count": 46,
      "outputs": [
        {
          "output_type": "execute_result",
          "data": {
            "text/plain": [
              "{'file_path': 'data/source_files/source.txt',\n",
              " 'file_name': 'source.txt',\n",
              " 'file_type': 'text/plain',\n",
              " 'file_size': 75084,\n",
              " 'creation_date': '2024-01-27',\n",
              " 'last_modified_date': '2024-01-27',\n",
              " 'last_accessed_date': '2024-01-27',\n",
              " 'document_title': 'Exploring the Evolution of Computing: From Mainframes to Microcomputers, Programming on the IBM 1401, and the Rise of Personal Programming'}"
            ]
          },
          "metadata": {},
          "execution_count": 46
        }
      ]
    },
    {
      "cell_type": "code",
      "source": [
        "len(nodes)"
      ],
      "metadata": {
        "colab": {
          "base_uri": "https://localhost:8080/"
        },
        "id": "t8zsu8AFQh_1",
        "outputId": "ee44fafa-e066-4893-c235-17e10b7d417d"
      },
      "execution_count": 47,
      "outputs": [
        {
          "output_type": "execute_result",
          "data": {
            "text/plain": [
              "147"
            ]
          },
          "metadata": {},
          "execution_count": 47
        }
      ]
    },
    {
      "cell_type": "markdown",
      "source": [
        "# Let's include Embeddings"
      ],
      "metadata": {
        "id": "jgzjbe3pQrse"
      }
    },
    {
      "cell_type": "code",
      "source": [
        "pipeline=IngestionPipeline(\n",
        "    transformations=[\n",
        "        SentenceSplitter(chunk_size=64,chunk_overlap=20),\n",
        "        TitleExtractor(),\n",
        "        OpenAIEmbedding()\n",
        "    ]\n",
        ")\n",
        "nodes=pipeline.run(documents=documents)"
      ],
      "metadata": {
        "colab": {
          "base_uri": "https://localhost:8080/"
        },
        "id": "r70qqre3Qo06",
        "outputId": "408f66b1-869a-4bce-a08d-9f1fcd3e4206"
      },
      "execution_count": 50,
      "outputs": [
        {
          "output_type": "stream",
          "name": "stderr",
          "text": [
            "\n",
            "\n",
            "  0%|          | 0/5 [00:00<?, ?it/s]\u001b[A\u001b[A\n",
            "\n",
            " 20%|██        | 1/5 [00:00<00:02,  1.38it/s]\u001b[A\u001b[A\n",
            "\n",
            " 40%|████      | 2/5 [00:00<00:01,  2.20it/s]\u001b[A\u001b[AERROR:asyncio:Task exception was never retrieved\n",
            "future: <Task finished name='Task-65' coro=<tqdm_asyncio.gather.<locals>.wrap_awaitable() done, defined at /usr/local/lib/python3.10/dist-packages/tqdm/asyncio.py:75> exception=RateLimitError(\"Error code: 429 - {'error': {'message': 'Rate limit reached for gpt-3.5-turbo in organization org-hhFLm0NHyXq0DYjZNPgBPBSY on requests per min (RPM): Limit 3, Used 3, Requested 1. Please try again in 20s. Visit https://platform.openai.com/account/rate-limits to learn more. You can increase your rate limit by adding a payment method to your account at https://platform.openai.com/account/billing.', 'type': 'requests', 'param': None, 'code': 'rate_limit_exceeded'}}\")>\n",
            "Traceback (most recent call last):\n",
            "  File \"/usr/lib/python3.10/asyncio/tasks.py\", line 232, in __step\n",
            "    result = coro.send(None)\n",
            "  File \"/usr/local/lib/python3.10/dist-packages/tqdm/asyncio.py\", line 76, in wrap_awaitable\n",
            "    return i, await f\n",
            "  File \"/usr/local/lib/python3.10/dist-packages/llama_index/async_utils.py\", line 106, in worker\n",
            "    return await job\n",
            "  File \"/usr/local/lib/python3.10/dist-packages/llama_index/llms/llm.py\", line 280, in apredict\n",
            "    chat_response = await self.achat(messages)\n",
            "  File \"/usr/local/lib/python3.10/dist-packages/llama_index/llms/base.py\", line 57, in wrapped_async_llm_chat\n",
            "    f_return_val = await f(_self, messages, **kwargs)\n",
            "  File \"/usr/local/lib/python3.10/dist-packages/llama_index/llms/openai.py\", line 494, in achat\n",
            "    return await achat_fn(messages, **kwargs)\n",
            "  File \"/usr/local/lib/python3.10/dist-packages/llama_index/llms/openai.py\", line 538, in _achat\n",
            "    response = await aclient.chat.completions.create(\n",
            "  File \"/usr/local/lib/python3.10/dist-packages/openai/resources/chat/completions.py\", line 1322, in create\n",
            "    return await self._post(\n",
            "  File \"/usr/local/lib/python3.10/dist-packages/openai/_base_client.py\", line 1705, in post\n",
            "    return await self.request(cast_to, opts, stream=stream, stream_cls=stream_cls)\n",
            "  File \"/usr/local/lib/python3.10/dist-packages/openai/_base_client.py\", line 1408, in request\n",
            "    return await self._request(\n",
            "  File \"/usr/local/lib/python3.10/dist-packages/openai/_base_client.py\", line 1484, in _request\n",
            "    return await self._retry_request(\n",
            "  File \"/usr/local/lib/python3.10/dist-packages/openai/_base_client.py\", line 1530, in _retry_request\n",
            "    return await self._request(\n",
            "  File \"/usr/local/lib/python3.10/dist-packages/openai/_base_client.py\", line 1484, in _request\n",
            "    return await self._retry_request(\n",
            "  File \"/usr/local/lib/python3.10/dist-packages/openai/_base_client.py\", line 1530, in _retry_request\n",
            "    return await self._request(\n",
            "  File \"/usr/local/lib/python3.10/dist-packages/openai/_base_client.py\", line 1484, in _request\n",
            "    return await self._retry_request(\n",
            "  File \"/usr/local/lib/python3.10/dist-packages/openai/_base_client.py\", line 1530, in _retry_request\n",
            "    return await self._request(\n",
            "  File \"/usr/local/lib/python3.10/dist-packages/openai/_base_client.py\", line 1499, in _request\n",
            "    raise self._make_status_error_from_response(err.response) from None\n",
            "openai.RateLimitError: Error code: 429 - {'error': {'message': 'Rate limit reached for gpt-3.5-turbo in organization org-hhFLm0NHyXq0DYjZNPgBPBSY on requests per min (RPM): Limit 3, Used 3, Requested 1. Please try again in 20s. Visit https://platform.openai.com/account/rate-limits to learn more. You can increase your rate limit by adding a payment method to your account at https://platform.openai.com/account/billing.', 'type': 'requests', 'param': None, 'code': 'rate_limit_exceeded'}}\n",
            " 40%|████      | 2/5 [03:24<05:06, 102.24s/it]\n",
            "\n",
            "\n",
            " 60%|██████    | 3/5 [00:21<00:19,  9.56s/it]\u001b[A\u001b[A\n",
            "\n",
            " 80%|████████  | 4/5 [00:41<00:13, 13.78s/it]\u001b[A\u001b[A\n",
            "\n",
            "100%|██████████| 5/5 [01:02<00:00, 12.44s/it]\n"
          ]
        }
      ]
    },
    {
      "cell_type": "code",
      "source": [
        "nodes[0].metadata"
      ],
      "metadata": {
        "colab": {
          "base_uri": "https://localhost:8080/"
        },
        "id": "FOVRoEVBRPUy",
        "outputId": "32a6425b-3c58-4400-de9b-0e09e1745954"
      },
      "execution_count": 51,
      "outputs": [
        {
          "output_type": "execute_result",
          "data": {
            "text/plain": [
              "{'file_path': 'data/source_files/source.txt',\n",
              " 'file_name': 'source.txt',\n",
              " 'file_type': 'text/plain',\n",
              " 'file_size': 75084,\n",
              " 'creation_date': '2024-01-27',\n",
              " 'last_modified_date': '2024-01-27',\n",
              " 'last_accessed_date': '2024-01-27',\n",
              " 'document_title': \"Exploring the Depths: Unveiling the Journey of Novice Writers and Programmers in the Intriguing World of the School District's 1401\"}"
            ]
          },
          "metadata": {},
          "execution_count": 51
        }
      ]
    },
    {
      "cell_type": "code",
      "source": [
        "nodes[0]"
      ],
      "metadata": {
        "colab": {
          "base_uri": "https://localhost:8080/"
        },
        "id": "t2uBAatMRuzM",
        "outputId": "3b227179-4c4d-4412-e397-a8aa10d3587c"
      },
      "execution_count": 52,
      "outputs": [
        {
          "output_type": "execute_result",
          "data": {
            "text/plain": [
              "TextNode(id_='5905412c-7d30-475f-b924-7c3f71c9d42f', embedding=[0.02508874423801899, 0.007771904580295086, -0.01519340742379427, -0.018276941031217575, -0.0027962035965174437, 0.041515566408634186, -0.02555127441883087, -0.031087618321180344, -0.02218742109835148, -0.01358856912702322, 0.04375813528895378, 0.03075123205780983, -0.0026227550115436316, -0.007344414480030537, -0.0025649387389421463, -0.0057220556773245335, 0.030246654525399208, -0.0209259744733572, -0.010673228651285172, -0.028690870851278305, -0.004726915620267391, -0.009117445908486843, -0.004775972105562687, -0.012747605331242085, -0.002086640801280737, -0.008556803688406944, 0.01711360737681389, -0.03860022500157356, 0.0005418082582764328, -0.004670851398259401, 0.01834702119231224, -0.017267784103751183, 0.005375158507376909, -0.020631637424230576, -0.01621657982468605, -0.004008592572063208, -0.014800957404077053, -0.027835892513394356, 0.008577827364206314, -0.006366794463247061, 0.028074165806174278, 0.010399915277957916, -0.016903366893529892, -0.00147781812120229, -0.01381282601505518, -0.006654123775660992, 0.010652204044163227, 0.002037584548816085, -0.006181081756949425, 0.01834702119231224, 0.0006351026240736246, 0.014548668637871742, -0.014079131186008453, -0.003546062856912613, -0.01474489364773035, 0.0031623730901628733, 0.011135758832097054, 0.028186293318867683, -0.00871798861771822, -0.002692835172638297, 0.0017686514183878899, 0.003784335684031248, 0.008809092454612255, -0.003405902301892638, -0.020323283970355988, -0.011899633333086967, -0.03198464587330818, 0.007022045087069273, 0.01924404874444008, -0.007309374399483204, 0.005651975516229868, 0.01593625918030739, -0.0074144951067864895, -0.0008843257091939449, 0.01575404964387417, 0.01851521246135235, -0.024079589173197746, -1.1915018149011303e-05, 0.011282927356660366, -0.018094731494784355, -0.005816664081066847, -0.026336174458265305, -0.018627341836690903, 0.0021041608415544033, 0.006103993393480778, 0.005189445801079273, 0.017520073801279068, 0.014941118657588959, -0.036609943956136703, -0.04193604737520218, 0.019005775451660156, 0.023743202909827232, 0.02417770028114319, 0.03187251836061478, -0.008710980415344238, -0.0024247781839221716, -0.004569235257804394, 0.03184448555111885, -0.00438352208584547, -0.04510367661714554, -0.005970840808004141, 0.009888329543173313, -0.014016058295965195, -0.02042139694094658, -0.04560825601220131, 0.023673122748732567, 0.005249014124274254, -0.025200873613357544, 0.020939990878105164, -0.021024087443947792, -0.011941681616008282, 0.024247780442237854, 0.007764896377921104, -0.04025411978363991, -0.010434955358505249, -0.01306997425854206, 0.02681271918118, -0.018178828060626984, -0.0019534882158041, -0.014758909121155739, 0.009208550676703453, 0.016749190166592598, 0.020855894312262535, -0.02011304348707199, 0.013868889771401882, 0.013658649288117886, -0.00862688384950161, -0.024065572768449783, 0.019720593467354774, -0.020869910717010498, 0.008073249831795692, 0.020996056497097015, 0.03274151310324669, -0.010154634714126587, -0.0003626655088737607, 0.03044287860393524, -0.013168087229132652, -0.002482594456523657, -0.017674250528216362, -0.011107726022601128, 0.015053247101604939, 0.021570714190602303, -0.014562685042619705, -0.009720136411488056, 0.004825028125196695, -0.0015925746411085129, 0.01395298633724451, -0.01617453061044216, 0.03515227511525154, -0.0028645319398492575, 0.01942625641822815, -0.018585292622447014, -0.01066622044891119, 0.0013867138186469674, -0.000177062232978642, 0.0052174776792526245, 0.034759823232889175, 0.011402064003050327, 0.002952132374048233, -0.01145812775939703, -0.001904431963339448, 0.0215146504342556, 0.023701155558228493, -0.018220875412225723, -0.003328813938423991, 0.025943724438548088, 0.03691829741001129, -0.0014830741565674543, -0.010603148490190506, -0.008157346397638321, -0.013287223875522614, 0.010385898873209953, -0.04950471967458725, -0.0057395757175982, 0.016272643581032753, 0.017912521958351135, 0.009727144613862038, 0.004600771237164736, -0.029994364827871323, -0.0078139528632164, -0.019902803003787994, -0.006829324644058943, 0.021851034834980965, 0.02137448824942112, -0.02685476839542389, -0.009159494191408157, 0.005918280687183142, -0.002514130435883999, -0.00851475540548563, 0.00887917261570692, 0.000847095507197082, 0.029153401032090187, -0.019510352984070778, 0.017744330689311028, -0.6489995718002319, -0.030274685472249985, 0.007435518782585859, -0.01848718151450157, 0.01035085879266262, -0.001601334661245346, -0.006012889090925455, 0.025747498497366905, -0.008325538598001003, 0.019846739247441292, 0.004313441924750805, -0.008339555002748966, 0.020855894312262535, 0.010799373500049114, 0.0068643647246062756, -0.008872165344655514, 0.009026342071592808, -0.022173404693603516, -0.009145477786660194, -0.00906138215214014, -0.011528207920491695, 0.023028384894132614, 0.0031974134035408497, -0.004229345824569464, 0.0027348834555596113, 0.03574094921350479, -0.0021251847501844168, 0.0082694748416543, 0.025060713291168213, 0.016749190166592598, -0.023154528811573982, 0.001409489894285798, 0.01952436938881874, 0.0016766709741204977, 0.04936455935239792, -0.024247780442237854, 0.004593763034790754, 0.004705891478806734, 0.0217809546738863, 0.02770974673330784, -0.02417770028114319, -0.02129039354622364, -0.01182254496961832, 0.01915995217859745, -0.00073584308847785, -0.0029451241716742516, 0.041010987013578415, -0.006549003534018993, 0.015978306531906128, -0.003342829877510667, 0.02214537188410759, -0.0007844612700864673, 0.020365333184599876, -0.009706120938062668, 0.010596140287816525, -0.008080258034169674, 0.018178828060626984, -0.01911790296435356, -0.0005172801320441067, -0.011780496686697006, -0.0004594639176502824, 0.020813846960663795, -0.030555007979273796, 8.469860040349886e-05, -0.023925412446260452, 0.028270389884710312, -0.014044090174138546, 0.004036624915897846, 0.0010100322542712092, -0.010904493741691113, 0.02890111319720745, 0.01134599931538105, -0.002174241002649069, -0.017856458202004433, 0.0074775670655071735, 0.011465135961771011, 0.01934215985238552, 0.003731775563210249, -0.008556803688406944, -0.0010319323046132922, -0.0041872975416481495, -0.0016372508835047483, -0.02364508993923664, -0.01725376769900322, 0.02794802002608776, -0.003558326745405793, -0.03697436302900314, -0.00517542939633131, 0.00989533681422472, -0.010771340690553188, -0.006668139714747667, 0.029097337275743484, -0.009383751079440117, -0.026910832151770592, 0.0005234121927060187, 0.01581011340022087, 0.00055932835675776, -0.016426820307970047, 0.02971404418349266, -0.030274685472249985, 0.004092689137905836, 0.01213790662586689, 0.023560993373394012, -0.01925806514918804, 0.01739392802119255, -0.003945520613342524, 0.003002940444275737, 0.01952436938881874, 0.013301239348948002, -0.02555127441883087, -0.004565731156617403, -0.0006859108689241111, -0.03192858025431633, 0.00261574680916965, -0.029237497597932816, -0.02813022956252098, 0.021276377141475677, -0.006040920969098806, 0.014142203144729137, 0.01064519677311182, 0.008612868376076221, 0.006009384989738464, -0.01576806604862213, -0.014394491910934448, 0.004660339560359716, 0.014051098376512527, 0.01180152129381895, -0.008451683446764946, -0.01780039444565773, -0.006699676159769297, -0.0051403893157839775, 0.005511815194040537, 0.03220890089869499, -0.016020355746150017, -0.01213790662586689, -0.01143710408359766, 0.004506162833422422, -0.007519615348428488, -0.0004747939819935709, -0.023042399436235428, -0.04577644541859627, -0.003060756716877222, 0.008500739000737667, 0.0007984773255884647, 0.0009837520774453878, -0.018445132300257683, -0.001997288316488266, 0.002519386587664485, 0.01125489454716444, 0.003780831815674901, 0.018010634928941727, -0.01576806604862213, -0.03007846139371395, 0.0061530498787760735, -0.0012351651675999165, -0.01662304624915123, 0.0040786731988191605, -0.022383645176887512, -0.020505493506789207, -0.01915995217859745, -0.01938420906662941, 0.02898520976305008, -0.005564375314861536, -1.9231018086429685e-05, 0.01023873034864664, -0.007053581532090902, -0.004040129017084837, 0.02993830107152462, 0.0011703409254550934, -0.02635018900036812, 0.01652493327856064, 0.020617622882127762, 0.0016915630549192429, 0.009124454110860825, -0.0024440502747893333, -0.002430034102872014, -0.01834702119231224, 0.0033025338780134916, 0.0021865051239728928, -0.0014585460303351283, 0.0005409322329796851, 0.008935237303376198, 0.00503877317532897, -0.005375158507376909, 0.020365333184599876, 0.009818249382078648, 0.00645439513027668, 0.016286659985780716, -0.0071061416529119015, -0.002510626567527652, 0.010603148490190506, 0.007130669895559549, -0.007372446823865175, 0.01086945366114378, -0.004737427923828363, 0.042328495532274246, 0.0019622482359409332, 0.0018168315291404724, 0.009292646311223507, 0.013938969932496548, 0.00010128792200703174, 0.01236216351389885, -0.00962202437222004, -0.009615016169846058, 0.006839836481958628, -0.05892350897192955, 0.007505599409341812, -0.021977178752422333, 0.0046147871762514114, -0.009341702796518803, 0.008872165344655514, -0.02689681574702263, -0.026210028678178787, -0.012313107028603554, -0.011107726022601128, 0.024696294218301773, -0.012754613533616066, 0.007344414480030537, -0.027681715786457062, 0.016412803903222084, -0.009355719201266766, 0.0018448636401444674, -0.0053401184268295765, -0.0038333919364959, -0.001724851201288402, 0.02971404418349266, 0.0074004787020385265, 0.01946830563247204, -0.005382166244089603, -0.025256937369704247, 0.02758360281586647, 0.003857920179143548, 0.02794802002608776, -0.0071832300163805485, 0.02147260122001171, 0.0035285428166389465, 0.012060818262398243, -0.033442314714193344, 0.035628821700811386, -0.00503877317532897, -0.0003852226072922349, 0.01925806514918804, 0.00871798861771822, -0.021808987483382225, 0.0035022625233978033, -0.019454289227724075, 0.04776672646403313, 0.007253310177475214, -0.017281800508499146, 0.015039230696856976, -0.019398225471377373, 0.020435413345694542, 0.015109310857951641, -0.003186901332810521, 0.013749753125011921, 0.0012483051978051662, -0.004660339560359716, 0.024570150300860405, 0.027934003621339798, 0.02391139604151249, 0.0029065802227705717, -0.019776659086346626, -0.019328145310282707, 0.0031921572517603636, 0.013364311307668686, -0.012719573453068733, -0.030695168301463127, -0.020982040092349052, -0.020225172862410545, -0.022621918469667435, -0.015459712594747543, -0.019538385793566704, 0.007158701773732901, -0.0011353007284924388, 0.004733923822641373, 0.007940096780657768, 0.011780496686697006, -0.005560871213674545, 0.022173404693603516, 0.014843005686998367, -0.03139597177505493, -0.003453206503763795, 0.013847866095602512, 0.0013350296067073941, -0.00619159359484911, 0.019692562520503998, -0.005813160445541143, 0.012943830341100693, 0.0031360930297523737, 0.006026905030012131, -0.00698700500652194, -0.014023066498339176, -0.02119228057563305, -0.01383384969085455, -0.014366460032761097, 0.006790780462324619, 0.018136778846383095, -0.018697421997785568, 0.006111001595854759, -0.007204254157841206, 0.008479715324938297, -1.1203265785297845e-05, -0.03038681484758854, -0.006356282625347376, 0.05937202274799347, -0.010519051924347878, -0.0014760661870241165, -0.005066805053502321, 0.005658983718603849, -0.007771904580295086, 0.00894925370812416, 0.017786378040909767, -0.013090998865664005, -0.0020480966195464134, 0.005087829194962978, -0.010715276934206486, 0.00829049851745367, -0.00526653416454792, 0.018907662481069565, 0.0168052539229393, -0.006538491230458021, -0.014871037565171719, -0.02147260122001171, 0.011156782507896423, 0.08903000503778458, 0.03209677338600159, -0.010974573902785778, 0.010182666592299938, -0.0023511939216405153, -0.016693126410245895, -0.023855332285165787, -0.00326574151404202, 0.0005680883768945932, -0.005487286951392889, 0.03209677338600159, -0.028200309723615646, 0.013476439751684666, 0.007095629815012217, -0.0042643859051167965, 7.807382644386962e-05, -0.0066786520183086395, -0.049252428114414215, -0.02082786336541176, -0.03251725435256958, 0.0057676080614328384, -0.014093146659433842, 0.01575404964387417, 0.004670851398259401, 0.01694541424512863, -0.013693689368665218, 0.02599978819489479, 0.021626777946949005, 0.00885114073753357, -0.0013691936619579792, -0.015165375545620918, 0.03433934226632118, 0.027639666572213173, 0.007771904580295086, 0.0007187610026448965, 0.05628849193453789, 0.012123890221118927, 0.02372918650507927, 0.006118009332567453, -0.000327625370118767, 0.020687703043222427, 0.023294689133763313, 0.01211688295006752, -0.026069868355989456, -0.007743872236460447, -0.01770228147506714, -0.008591843768954277, 0.05264431610703468, 0.005385670345276594, -0.04162769392132759, 0.0028575239703059196, 0.028326453641057014, -0.024934567511081696, -0.018220875412225723, 0.012782645411789417, 0.008283490315079689, 0.03391886129975319, 0.00885814893990755, -0.0023179056588560343, -0.004376514349132776, -0.005420710425823927, -0.03523636981844902, -0.0014918341767042875, -0.002729627303779125, 0.00018691728473640978, -0.0028487639501690865, -0.007589695509523153, 0.009811241179704666, -0.026196014136075974, 0.05169122293591499, -0.003647679230198264, 0.003731775563210249, -0.0324331596493721, -0.003864928148686886, 0.03375066816806793, -0.0029661483131349087, 0.007603711914271116, 0.012600436806678772, -0.008570820093154907, 0.006598059553653002, -0.01555782463401556, -0.020183123648166656, 0.018949711695313454, -0.015137342736124992, 0.009068389423191547, 0.006888892501592636, -0.01893569529056549, -0.0012106370413675904, -0.007442526984959841, 0.018178828060626984, -0.011331982910633087, 0.010876460932195187, -0.010231723077595234, -0.03133990615606308, 0.014156218618154526, 0.006965980865061283, -0.006118009332567453, 0.008661923930048943, 0.0009198038605973125, -0.016721157357096672, 0.014254331588745117, -0.010147626511752605, -0.023841315880417824, -0.009236582554876804, 0.015964290127158165, 0.019944850355386734, 0.00509483739733696, 0.03764713183045387, 0.0004395348369143903, -0.01834702119231224, 0.034899987280368805, -0.0036406712606549263, 0.021360473707318306, 0.03464769572019577, 0.013098007068037987, 0.036217495799064636, -0.0004765459743794054, -0.0051544057205319405, 0.012488308362662792, -0.006118009332567453, 0.001416497863829136, -0.03851613029837608, 0.03192858025431633, 0.01154923252761364, 0.0007660652045160532, 0.010701260529458523, 0.0021094167605042458, -0.02206127531826496, -0.018543245270848274, -0.0217809546738863, -0.0067206998355686665, 0.0035022625233978033, -0.0107573252171278, -0.012789653614163399, -0.021570714190602303, -0.006065449211746454, 0.014730877242982388, 0.005970840808004141, -0.01593625918030739, -0.0069519649259746075, 0.01098158210515976, -0.016819270327687263, 0.004909124691039324, -0.0059533207677304745, 0.013090998865664005, -0.031227778643369675, -0.014009050093591213, -0.03473179414868355, 0.0027226193342357874, 0.026167981326580048, 0.014646780677139759, 0.009054373949766159, -0.0025859628804028034, -0.006366794463247061, -0.0177162978798151, -0.02382729947566986, -0.03377870097756386, 0.015123327262699604, 0.013448407873511314, -0.00424686586484313, 0.02518685720860958, 0.002575450809672475, 0.010336843319237232, 0.01794055476784706, 0.006482427008450031, 0.009523911401629448, 0.00679428456351161, -0.010841420851647854, -0.012165938504040241, 0.0029416203033179045, 0.02228553220629692, 0.007046573329716921, 0.002466826234012842, -0.03801155090332031, 0.021262360736727715, 0.03582504391670227, 0.020323283970355988, 0.013336279429495335, -0.013560536317527294, -0.034984081983566284, -0.02119228057563305, 0.018669389188289642, -0.0007424131035804749, 0.024205733090639114, -0.02431786060333252, -0.011177806183695793, 0.034087054431438446, -0.010827405378222466, -0.0013998538488522172, 0.004747939761728048, 0.02866283990442753, -0.011577264405786991, -0.005133381579071283, -0.012011761777102947, 0.0028767960611730814, -0.031087618321180344, 0.013196119107306004, -0.042412593960762024, 0.0007848992827348411, 0.00320967729203403, 0.008500739000737667, 0.019173968583345413, 0.008724996820092201, -0.004548211116343737, 0.0067977881990373135, 0.007891041226685047, 0.0011090206680819392, -0.009089414030313492, 0.007050077430903912, 0.00792608130723238, 0.007877024821937084, -0.030050428584218025, 0.003994576632976532, 0.006496442947536707, 0.0011729688849300146, -0.003829888068139553, -0.011226862668991089, 0.01496915053576231, -0.017155654728412628, -0.020323283970355988, -0.010427947156131268, -0.013315255753695965, 0.04176785424351692, 0.006888892501592636, 0.017001478001475334, 0.03316199406981468, 0.01928609609603882, -0.00772284809499979, 0.022860191762447357, -0.002967900363728404, -0.003048492828384042, 0.038740385323762894, 0.018417101353406906, -0.027863923460245132, 0.004821524024009705, -0.00653148302808404, 0.006471915170550346, 0.007351422682404518, -0.022173404693603516, 0.017996618524193764, 0.005070309154689312, -0.01747802458703518, -0.002083136700093746, 0.00498270895332098, -0.052420057356357574, 0.018991759046912193, -0.01283870916813612, -0.001851871726103127, 0.00401910487562418, -0.0021006567403674126, 0.019860755652189255, 0.008689955808222294, -0.007645759731531143, 0.027457458898425102, 0.01247429195791483, 0.0018991759279742837, -0.0050633009523153305, -0.002924100263044238, 0.007799936458468437, 0.014079131186008453, -0.019678546115756035, 0.01453465223312378, -0.04126327484846115, -0.0011011365568265319, 0.019804690033197403, 0.025467177852988243, -0.019440272822976112, -0.0029696524143218994, -0.00719023821875453, 0.033442314714193344, -0.014394491910934448, -0.022453725337982178, -0.029545851051807404, 0.011226862668991089, -0.010392907075583935, 0.005785128101706505, -0.012207986786961555, -0.029237497597932816, -0.023154528811573982, -0.00871798861771822, 0.018234891816973686, 0.01041393168270588, -0.004236353561282158, -0.004215329419821501, -0.011296942830085754, -0.028200309723615646, 0.00585520826280117, -0.009881321340799332, -0.009481863118708134, -0.035348501056432724, -0.02364508993923664, -0.006650619674474001, 0.026196014136075974, 0.013168087229132652, -0.006335258483886719, 0.0025298986583948135, 0.005052789114415646, 0.04126327484846115, -0.005518822930753231, 0.005252517759799957, -0.014828990213572979, 0.006167065817862749, -0.031059585511684418, 0.006857356522232294, -0.014506620354950428, -0.011598288081586361, 0.014051098376512527, -0.02618199773132801, -0.02835448645055294, -0.006468411069363356, -0.00696247722953558, 0.025971757248044014, -0.026924848556518555, -0.012677525170147419, 0.012292083352804184, -0.0037177593912929296, -0.006527979392558336, -0.005708039738237858, -0.024472037330269814, 0.0008593595703132451, -0.0030695167370140553, -0.008017185144126415, 0.010911501944065094, -0.0020918967202305794, 0.00566248781979084, -0.01702951081097126, 0.014955134131014347, -0.0035232866648584604, -0.05413001775741577, -0.012313107028603554, 0.0030134525150060654, 0.02246774174273014, -0.013525496236979961, 0.0019482321804389358, -0.016595013439655304, -0.012039794586598873, -0.011240879073739052, 0.00097674410790205, 0.01530553586781025, -0.028788983821868896, -0.017926538363099098, 0.0026017308700829744, 0.0016836790600791574, 0.02281814254820347, -0.003125580959022045, 0.01202577818185091, -0.030555007979273796, -0.00987431313842535, -0.04574841633439064, 0.015095295384526253, -0.02468227967619896, 0.03882448375225067, -0.01234113983809948, 0.0005282302154228091, -0.020617622882127762, -0.03551669046282768, -0.02287420816719532, -0.010119594633579254, 0.015011198818683624, 0.015375616028904915, 0.03265741467475891, 0.011640336364507675, 0.000267400115262717, 0.015697985887527466, -0.02866283990442753, 0.0003926686476916075, -0.020855894312262535, -0.0107573252171278, 0.01865537464618683, 0.010448971763253212, -0.002995932474732399, -0.009769192896783352, -0.006520971190184355, -0.0007191990152932703, 0.0017432472668588161, 0.015908226370811462, -0.007365438621491194, 0.004180289339274168, -0.009327687323093414, -0.005872728303074837, 0.004239857662469149, 0.029601914808154106, 0.01372172124683857, 0.00560642359778285, 0.004660339560359716, -0.043674036860466, -0.006300218403339386, 0.009495879523456097, -0.004169777501374483, 0.007123661693185568, -0.016721157357096672, -0.0030432366766035557, -0.007863008417189121, 0.010378891602158546, -0.016412803903222084, -0.004825028125196695, 0.0023757219314575195, -0.00549079105257988, 0.014093146659433842, -0.010526060126721859, -0.0020708725787699223, 0.025242920964956284, 0.01960846595466137, -0.011226862668991089, -0.01788449101150036, 0.004674355499446392, -0.018851598724722862, -0.009327687323093414, 0.007442526984959841, -0.013595576398074627, 0.00761071965098381, -0.018809551373124123, 0.02567741833627224, -0.007295358460396528, 0.009355719201266766, -0.009516904130578041, -0.014646780677139759, -0.018375052139163017, 0.0020796325989067554, 0.009888329543173313, -0.013679672963917255, -0.015978306531906128, -0.005315590184181929, 0.01338533591479063, -0.0023669619113206863, -0.02780785970389843, -0.005227989982813597, -0.024710310623049736, 0.014338428154587746, 0.024289829656481743, 0.004127729218453169, -0.010084553621709347, -0.02717713825404644, 0.02789195626974106, -0.02364508993923664, -0.006629595533013344, 0.18714241683483124, -0.008661923930048943, 0.016272643581032753, 0.0032745017670094967, -0.010231723077595234, 0.019314128905534744, 0.03487195447087288, -0.005736072082072496, -0.009930377826094627, 0.02291625551879406, -0.01852922886610031, 0.017632201313972473, -0.0041102091781795025, -0.0070746056735515594, 0.008788068778812885, 0.0037492956034839153, -0.025761514902114868, -0.01911790296435356, -0.00974116101861, -0.04171178862452507, 0.005746583919972181, -0.007116653490811586, -0.0061950976960361, -0.019776659086346626, 0.017267784103751183, 0.007081613410264254, 0.00013216705701779574, 0.015179391019046307, 0.03153613209724426, 0.01711360737681389, 0.009657064452767372, -0.0052314936183393, -0.009033349342644215, -0.004222337622195482, -0.019103888422250748, 0.0061950976960361, 0.014464572072029114, 0.0029258523136377335, 0.008073249831795692, -0.004320450127124786, 0.029377657920122147, -0.027191152796149254, -0.0012938573490828276, -0.03602126985788345, -0.013455416075885296, 0.020855894312262535, -0.008227426558732986, -0.0059533207677304745, -0.02358902618288994, 0.03148006647825241, 0.00301170046441257, 0.013938969932496548, 0.02413565292954445, 0.007386462762951851, -0.004288913682103157, 8.530085324309766e-05, 0.0063247461803257465, 0.023673122748732567, -0.004807508084923029, 0.013357304036617279, 0.011640336364507675, 0.025102760642766953, -0.018921678885817528, 0.034030988812446594, 0.006563019473105669, -0.01250232383608818, 0.009264614433050156, -0.011268910951912403, 0.0025404104962944984, -0.0103018032386899, -0.0006666387780569494, -0.0042188335210084915, -0.01453465223312378, -0.006527979392558336, -0.026882799342274666, -0.02019714005291462, 0.02906930446624756, 0.006699676159769297, 0.006513962987810373, 0.04199211299419403, -0.014079131186008453, -0.02364508993923664, 0.011948689818382263, -0.017085574567317963, 0.004337970167398453, -0.05143893510103226, -0.006675147917121649, -0.030695168301463127, 0.0012807173188775778, -0.01460473332554102, -0.0027086033951491117, -0.009439815767109394, -0.02110818400979042, -0.024205733090639114, 0.017099590972065926, -0.006513962987810373, -0.014772925525903702, 0.018669389188289642, -0.0025176345370709896, 0.003577598836272955, -0.013981018215417862, 0.04972897469997406, 0.019916819408535957, 0.01189262606203556, -0.00362315122038126, -0.0002726561506278813, 0.010287786833941936, -0.002664803061634302, -0.006538491230458021, 0.004211825784295797, 0.02612593211233616, -0.023196576163172722, 0.004236353561282158, 0.0011510688345879316, -0.00498270895332098, 0.0217809546738863, -0.015235455706715584, -0.04370206966996193, 0.0044500986114144325, -0.0236030425876379, -0.025579307228326797, -0.02088392712175846, 0.004138241056352854, -0.0047689639031887054, 0.006731212139129639, 0.0156279057264328, -0.020939990878105164, -0.0040015848353505135, -0.004607779439538717, -0.013448407873511314, 0.01789850741624832, -0.024121636524796486, 0.005161413457244635, -0.016735173761844635, 0.006881884764879942, -0.006675147917121649, -0.011766481213271618, 0.00016052766295615584, 0.0002125403843820095, 0.0013674417277798057, 0.006675147917121649, -0.004464114550501108, 0.004113713279366493, 0.015473728999495506, -0.005101845134049654, -0.02350492961704731, 0.012572403997182846, 0.00964304804801941, 0.012074834667146206, -0.024065572768449783, -0.01327320747077465, -0.0067872763611376286, 0.001332401530817151, 0.012299091555178165, 0.036806169897317886, -0.013308247551321983, -0.016090435907244682, -0.03565685451030731, -0.021346457302570343, -0.002987172454595566, -0.04031018540263176, 0.02314051240682602, 0.019776659086346626, 0.003882448188960552, -0.014674813486635685, -0.022607902064919472, -0.18187236785888672, 0.02613994851708412, 0.007169214077293873, -0.010203690268099308, 0.03330215439200401, 0.008444675244390965, 0.031816452741622925, 0.0018378556706011295, -0.0013376575661823153, 0.011023630388081074, -0.0025158824864774942, -0.008788068778812885, -0.028186293318867683, 0.009706120938062668, -0.026434285566210747, 0.01168238464742899, 0.006570027209818363, -0.008956260979175568, 0.035488661378622055, 0.01189262606203556, 0.024514086544513702, -0.009047365747392178, 0.008998309262096882, 0.0015759306261315942, 0.0206596702337265, 0.004804003983736038, 0.002939868252724409, -0.00026477209758013487, 0.0030905408784747124, -0.013581560924649239, 0.009481863118708134, 0.026462318375706673, -0.006237145978957415, 0.010680236853659153, 0.032993800938129425, 0.000958347984123975, -0.008164353668689728, -0.02758360281586647, -0.0026174988597631454, 0.01064519677311182, 0.03599323704838753, 0.02431786060333252, 0.021346457302570343, -0.02508874423801899, -0.007694816216826439, -0.016006339341402054, 0.023126496002078056, -0.018851598724722862, 0.00777891231700778, -0.011338991113007069, 0.0071516940370202065, -0.027569586411118507, -0.0024160181637853384, -0.014520636759698391, -0.0011335486778989434, 0.002726123435422778, 0.010434955358505249, 0.007463551126420498, 0.0059848567470908165, -0.00039661064511165023, -0.007512607146054506, -0.009327687323093414, 0.014983166940510273, 0.017267784103751183, -0.014156218618154526, -0.03759106993675232, -0.004274897743016481, 0.012649492360651493, -0.033498380333185196, 0.00630722614005208, -0.010904493741691113, -0.021612761542201042, 0.0017756593879312277, 0.02224348485469818, -0.017239751294255257, -0.0030134525150060654, -0.009103430435061455, 0.019664529711008072, -0.01306296605616808, 0.018697421997785568, 0.0024405461736023426, 0.030555007979273796, 0.006916924845427275, 0.009348710998892784, -0.0059533207677304745, 0.007484575267881155, -0.01018967479467392, 0.01306296605616808, 0.0076317437924444675, -0.01911790296435356, 0.017996618524193764, -0.004951172508299351, -0.0004664719454012811, -0.009958409704267979, 0.00447112275287509, 0.019440272822976112, 0.0048775882460176945, 0.012411219999194145, -0.009243590757250786, -0.0017616433324292302, 0.015782082453370094, -0.012327123433351517, -0.022075291723012924, -0.002433538204059005, 0.04073066636919975, 0.013686681166291237, -0.003032724605873227, 0.018136778846383095, 0.05230792984366417, 0.0054802787490189075, -0.02848063036799431, 0.02074376679956913, 0.007954113185405731, -0.0132451755926013, 0.011310959234833717, 0.034899987280368805, 0.022720031440258026, -0.02200521156191826, -0.003363854018971324, -0.0022706014569848776, 0.034171149134635925, 0.0037387835327535868, -0.007905056700110435, 0.00783497653901577, -0.0017292312113568187, -0.01946830563247204, -0.08891787379980087, -0.002402001991868019, 0.00221979315392673, 0.027681715786457062, -0.01725376769900322, 0.043001268059015274, -0.031227778643369675, 0.027373362332582474, -0.014800957404077053, 0.024668263271450996, 0.0027348834555596113, -0.011752464808523655, 0.017043527215719223, -0.0074915834702551365, 0.009951401501893997, -0.018641358241438866, 0.001990280346944928, -0.029013240709900856, -0.01829095557332039, 0.028116213157773018, 0.013756761327385902, -0.016693126410245895, 0.0017449993174523115, 0.0029854204040020704, -0.007225278299301863, 0.019636498764157295, -0.03352641314268112, 0.02119228057563305, 0.010196682065725327, -0.0019254559883847833, 0.0066330996342003345, -0.009250598959624767, 0.0217809546738863, -0.022902239114046097, 0.015053247101604939, 0.007687808014452457, -0.017814410850405693, -0.004012096673250198, 0.02033730037510395, -0.024023523554205894, 0.007197245955467224, 0.02867685630917549, 0.02232758142054081, -0.029882237315177917, -0.009495879523456097, -0.00035105846473015845, -0.025663403794169426, 0.021584730595350266, -0.003861424047499895, -0.022159388288855553, -0.03456360101699829, 0.014345435425639153, -0.03389082849025726, -0.0342552475631237, 0.01200475450605154, 0.0021935130935162306, 0.0034094061702489853, 0.022355612367391586, 0.006132025737315416, 0.00288730813190341, -0.025565290823578835, -0.0359652042388916, -0.00038215660606510937, 0.011044654063880444, 0.024163683876395226, -0.009488871321082115, -0.016230596229434013, -0.007127165794372559, 0.003602127078920603, 0.0008948377217166126, 0.003626655088737607, 0.00600237725302577, -0.03613339737057686, 0.02228553220629692, -0.00939776748418808, -0.008647908456623554, -0.023224608972668648, -0.0018728958675637841, 0.002239065244793892, -0.01721172034740448, -0.010021481662988663, -0.014800957404077053, -0.010596140287816525, -0.006885388866066933, 0.010434955358505249, 0.011037645861506462, 0.0040331208147108555, 0.019047822803258896, -1.641138078412041e-05, -0.015025214292109013, -0.005483782850205898, 0.039244964718818665, 0.012460275553166866, -0.012011761777102947, 0.020687703043222427, 0.0019272080389782786, 0.012278066948056221, -0.0023179056588560343, -0.037394843995571136, -0.005252517759799957, -0.0045376988127827644, -0.011717424727976322, -0.06907113641500473, 0.008185378275811672, 0.002789195626974106, -0.028200309723615646, 0.0012097610160708427, 0.0003479924635030329, 0.004951172508299351, -0.021766938269138336, -0.027639666572213173, -0.00953091960400343, -0.03927299752831459, 0.02101007103919983, -0.017323847860097885, -0.016496900469064713, -0.017365897074341774, 0.00103280832991004, 0.0007538011413998902, 0.0014673061668872833, -0.00046909996308386326, 0.003039732575416565, -0.008423651568591595, -0.02731729857623577, 0.035040147602558136, 0.0035443108063191175, -0.031900547444820404, 0.014394491910934448, -0.023448865860700607, 0.0072112618945539, 0.0014690581010654569, -0.029629947617650032, 0.0008900196989998221, -0.021206296980381012, 0.029013240709900856, 0.0005045781144872308, -0.005497798789292574, 0.024612199515104294, -0.004457106813788414, 0.01851521246135235, -0.00346371834166348, 0.06340865045785904, -0.014562685042619705, -0.016861317679286003, 0.013476439751684666, -0.02005697973072529, -0.009790216572582722, 0.004856564104557037, -0.026784688234329224, 0.010308811441063881, 0.011388047598302364, 0.015501760877668858, 0.022762078791856766, 0.010512043721973896, -0.01938420906662941, -0.02011304348707199, 0.008332546800374985, -0.01915995217859745, -0.004478130489587784, -0.007912064902484417, -0.01009857002645731, -2.8278493118705228e-05, 0.024836456403136253, -0.02744344249367714, -0.0022180413361638784, -0.014618748798966408, 0.02476637437939644, -0.019412241876125336, -0.011205838993191719, 0.006279194261878729, -0.006303722504526377, 0.00011946499580517411, -0.019804690033197403, -0.018907662481069565, 0.0036091350484639406, 0.03809564560651779, 0.022047260776162148, -0.00967107992619276, -0.005872728303074837, 0.029041273519396782, -0.0034304303117096424, 0.017996618524193764, 0.016903366893529892, 0.005329606123268604, -0.0001709302159724757, 0.026027821004390717, 0.039693478494882584, 0.013938969932496548, 0.00817136187106371, 0.00032609235495328903, -0.01879553496837616, 0.01924404874444008, -0.013581560924649239, 0.004870580509305, 0.00407516909763217, 0.0018361036200076342, 0.0144225237891078, -0.004113713279366493, -0.013476439751684666, -0.010245738551020622, 0.002754155546426773, 0.008956260979175568, -0.001412993879057467, -0.002696339273825288, 0.0031553651206195354, -0.025803564116358757, -0.03237709403038025, 0.023743202909827232, -0.03986167162656784, -0.029826171696186066, 0.01712762378156185, 0.012109874747693539, 0.01834702119231224, 0.008479715324938297, -0.008724996820092201, 0.00577461626380682, -0.037619102746248245, 0.013672664761543274, -0.007253310177475214, -0.02133244089782238, -0.020673686638474464, 0.03579701483249664, -0.0028715399093925953, 0.02255183830857277, 0.05606423318386078, -0.0306671354919672, 0.021360473707318306, -0.0029994365759193897, 0.024584166705608368, -0.014590716920793056, 0.005620439536869526, 0.006142537575215101, -0.001657398883253336, -0.006545499432832003, 0.005518822930753231, -0.006839836481958628, 0.007575679570436478, -0.005869224667549133, -0.00973415281623602, 0.013448407873511314, 0.005574887152761221, 0.05362543836236, 0.013882906176149845, -0.02731729857623577, -0.0001234070077771321, -0.0058867447078228, 0.013567544519901276, 0.023617058992385864, 0.003647679230198264, 0.0029573882929980755, -0.00520696584135294, 0.010680236853659153, -0.012123890221118927, 0.011247887276113033, -0.04953274875879288, -0.04706592485308647, 0.011444111354649067, -0.01007754635065794, 0.02630814164876938, -0.000797601300291717, 0.015543809160590172, 0.005823672283440828, 0.009537927806377411, 0.03192858025431633, 0.008101281709969044, -0.021837018430233, -0.0037142555229365826, 0.015501760877668858, -0.015179391019046307, -0.014702845364809036, -0.015403647907078266, 0.019272079691290855, -0.003970048390328884, -0.04311339557170868, -0.006016393192112446, 0.021570714190602303, -0.013840857893228531, -0.010806380771100521, -0.017464008182287216, 0.021388504654169083, 0.025929708033800125, 0.011191822588443756, -0.015922242775559425, -0.023210592567920685, -0.0031974134035408497, -0.014331419952213764, -0.009096422232687473, -0.023154528811573982, 0.01021069847047329, -0.043225523084402084], metadata={'file_path': 'data/source_files/source.txt', 'file_name': 'source.txt', 'file_type': 'text/plain', 'file_size': 75084, 'creation_date': '2024-01-27', 'last_modified_date': '2024-01-27', 'last_accessed_date': '2024-01-27', 'document_title': \"Exploring the Depths: Unveiling the Journey of Novice Writers and Programmers in the Intriguing World of the School District's 1401\"}, excluded_embed_metadata_keys=['file_name', 'file_type', 'file_size', 'creation_date', 'last_modified_date', 'last_accessed_date'], excluded_llm_metadata_keys=['file_name', 'file_type', 'file_size', 'creation_date', 'last_modified_date', 'last_accessed_date'], relationships={<NodeRelationship.SOURCE: '1'>: RelatedNodeInfo(node_id='f57958a6-6928-4aa2-888d-3d6cc912f282', node_type=<ObjectType.DOCUMENT: '4'>, metadata={'file_path': 'data/source_files/source.txt', 'file_name': 'source.txt', 'file_type': 'text/plain', 'file_size': 75084, 'creation_date': '2024-01-27', 'last_modified_date': '2024-01-27', 'last_accessed_date': '2024-01-27'}, hash='59bda86706b709582b593684a2383c8e20b73cfba8789b5fc65b0e9d429c4989'), <NodeRelationship.NEXT: '3'>: RelatedNodeInfo(node_id='1a219387-82eb-42c5-8f7f-7acad41117f3', node_type=<ObjectType.TEXT: '1'>, metadata={}, hash='6ae820b8dca57f9f822d19cd4d7c85ff66f5ff50f0028d063327ed617045c303')}, text=\"What I Worked On\\n\\nFebruary 2021\\n\\nBefore college the two main things I worked on, outside of school, were writing and programming. I didn't write essays.\", start_char_idx=2, end_char_idx=154, text_template='[Excerpt from document]\\n{metadata_str}\\nExcerpt:\\n-----\\n{content}\\n-----\\n', metadata_template='{key}: {value}', metadata_seperator='\\n')"
            ]
          },
          "metadata": {},
          "execution_count": 52
        }
      ]
    },
    {
      "cell_type": "markdown",
      "source": [
        "# Transformation Caching"
      ],
      "metadata": {
        "id": "Rg51t2DbSZ4R"
      }
    },
    {
      "cell_type": "code",
      "source": [
        "from llama_index.ingestion import IngestionCache"
      ],
      "metadata": {
        "id": "daUrXubNR2nw"
      },
      "execution_count": 53,
      "outputs": []
    },
    {
      "cell_type": "code",
      "source": [
        "pipeline=IngestionPipeline(\n",
        "    transformations=[\n",
        "        SentenceSplitter(chunk_size=128,chunk_overlap=30),\n",
        "        TitleExtractor(),\n",
        "    ]\n",
        ")\n",
        "nodes=pipeline.run(documents=documents)"
      ],
      "metadata": {
        "colab": {
          "base_uri": "https://localhost:8080/"
        },
        "id": "KqNAk0wASjX6",
        "outputId": "54eba95b-e46b-41a9-f942-010e5c0e90d0"
      },
      "execution_count": 54,
      "outputs": [
        {
          "output_type": "stream",
          "name": "stderr",
          "text": [
            "100%|██████████| 5/5 [00:42<00:00,  8.48s/it]\n"
          ]
        }
      ]
    },
    {
      "cell_type": "code",
      "source": [
        "# save and load\n",
        "pipeline.cache.persist(\"./llama_cache.json\")\n",
        "new_cache=IngestionCache.from_persist_path(\"./llama_cache.json\")"
      ],
      "metadata": {
        "id": "UGj8gfvZTD60"
      },
      "execution_count": 55,
      "outputs": []
    },
    {
      "cell_type": "code",
      "source": [
        "new_pipeline=IngestionPipeline(\n",
        "    transformations=[\n",
        "        SentenceSplitter(chunk_size=128,chunk_overlap=30),\n",
        "        TitleExtractor(),\n",
        "    ],\n",
        "    cache=new_cache,\n",
        ")"
      ],
      "metadata": {
        "id": "3b7EZ6aeTtMZ"
      },
      "execution_count": 56,
      "outputs": []
    },
    {
      "cell_type": "code",
      "source": [
        "nodes[0]"
      ],
      "metadata": {
        "colab": {
          "base_uri": "https://localhost:8080/"
        },
        "id": "drUJj-0IULhn",
        "outputId": "89d0315b-c771-4bae-85fb-d31aeaacff2a"
      },
      "execution_count": 57,
      "outputs": [
        {
          "output_type": "execute_result",
          "data": {
            "text/plain": [
              "TextNode(id_='117c7157-c66f-4b09-a99d-c0570432a81f', embedding=None, metadata={'file_path': 'data/source_files/source.txt', 'file_name': 'source.txt', 'file_type': 'text/plain', 'file_size': 75084, 'creation_date': '2024-01-27', 'last_modified_date': '2024-01-27', 'last_accessed_date': '2024-01-27', 'document_title': 'Exploring Writing and Programming: My Journey Before College, Early Programming on the IBM 1401, and the Evolution of Programming'}, excluded_embed_metadata_keys=['file_name', 'file_type', 'file_size', 'creation_date', 'last_modified_date', 'last_accessed_date'], excluded_llm_metadata_keys=['file_name', 'file_type', 'file_size', 'creation_date', 'last_modified_date', 'last_accessed_date'], relationships={<NodeRelationship.SOURCE: '1'>: RelatedNodeInfo(node_id='f57958a6-6928-4aa2-888d-3d6cc912f282', node_type=<ObjectType.DOCUMENT: '4'>, metadata={'file_path': 'data/source_files/source.txt', 'file_name': 'source.txt', 'file_type': 'text/plain', 'file_size': 75084, 'creation_date': '2024-01-27', 'last_modified_date': '2024-01-27', 'last_accessed_date': '2024-01-27'}, hash='59bda86706b709582b593684a2383c8e20b73cfba8789b5fc65b0e9d429c4989'), <NodeRelationship.NEXT: '3'>: RelatedNodeInfo(node_id='50fcaed0-f01f-4aec-8098-533246bc9a9f', node_type=<ObjectType.TEXT: '1'>, metadata={}, hash='e99647d69b84b0a13c59268b58406bb00652b41196a27d7b46b56e5d713018ed')}, text='What I Worked On\\n\\nFebruary 2021\\n\\nBefore college the two main things I worked on, outside of school, were writing and programming. I didn\\'t write essays. I wrote what beginning writers were supposed to write then, and probably still are: short stories. My stories were awful. They had hardly any plot, just characters with strong feelings, which I imagined made them deep.\\n\\nThe first programs I tried writing were on the IBM 1401 that our school district used for what was then called \"data processing.\"', start_char_idx=2, end_char_idx=504, text_template='[Excerpt from document]\\n{metadata_str}\\nExcerpt:\\n-----\\n{content}\\n-----\\n', metadata_template='{key}: {value}', metadata_seperator='\\n')"
            ]
          },
          "metadata": {},
          "execution_count": 57
        }
      ]
    },
    {
      "cell_type": "code",
      "source": [
        "nodes[0].metadata"
      ],
      "metadata": {
        "colab": {
          "base_uri": "https://localhost:8080/"
        },
        "id": "Ex3Pk5a-UP-p",
        "outputId": "1b665ffa-2c94-490f-9dca-e46a6e97485f"
      },
      "execution_count": 58,
      "outputs": [
        {
          "output_type": "execute_result",
          "data": {
            "text/plain": [
              "{'file_path': 'data/source_files/source.txt',\n",
              " 'file_name': 'source.txt',\n",
              " 'file_type': 'text/plain',\n",
              " 'file_size': 75084,\n",
              " 'creation_date': '2024-01-27',\n",
              " 'last_modified_date': '2024-01-27',\n",
              " 'last_accessed_date': '2024-01-27',\n",
              " 'document_title': 'Exploring Writing and Programming: My Journey Before College, Early Programming on the IBM 1401, and the Evolution of Programming'}"
            ]
          },
          "metadata": {},
          "execution_count": 58
        }
      ]
    },
    {
      "cell_type": "code",
      "source": [
        "pipeline=IngestionPipeline(\n",
        "    transformations=[\n",
        "        SentenceSplitter(chunk_size=128,chunk_overlap=30),\n",
        "        TitleExtractor(),\n",
        "        OpenAIEmbedding()\n",
        "    ],\n",
        "    cache=new_cache,\n",
        ")\n",
        "nodes=pipeline.run(documents=documents)"
      ],
      "metadata": {
        "id": "ckSq6pIpUTXw"
      },
      "execution_count": 59,
      "outputs": []
    },
    {
      "cell_type": "code",
      "source": [
        "nodes[0].metadata"
      ],
      "metadata": {
        "colab": {
          "base_uri": "https://localhost:8080/"
        },
        "id": "2hZ4Acm4U7pM",
        "outputId": "6279f70c-0536-481d-81bb-286c4ab80df7"
      },
      "execution_count": 60,
      "outputs": [
        {
          "output_type": "execute_result",
          "data": {
            "text/plain": [
              "{'file_path': 'data/source_files/source.txt',\n",
              " 'file_name': 'source.txt',\n",
              " 'file_type': 'text/plain',\n",
              " 'file_size': 75084,\n",
              " 'creation_date': '2024-01-27',\n",
              " 'last_modified_date': '2024-01-27',\n",
              " 'last_accessed_date': '2024-01-27',\n",
              " 'document_title': 'Exploring Writing and Programming: My Journey Before College, Early Programming on the IBM 1401, and the Evolution of Programming'}"
            ]
          },
          "metadata": {},
          "execution_count": 60
        }
      ]
    },
    {
      "cell_type": "code",
      "source": [
        "# save and load\n",
        "pipeline.cache.persist(\"./nodes_embeddings.json\")\n",
        "nodes_embedding_cache=IngestionCache.from_persist_path(\"./nodes_embeddings.json\")"
      ],
      "metadata": {
        "id": "mTjVDU_qVHNb"
      },
      "execution_count": 61,
      "outputs": []
    },
    {
      "cell_type": "code",
      "source": [
        "pipeline=IngestionPipeline(\n",
        "    transformations=[\n",
        "        SentenceSplitter(chunk_size=128,chunk_overlap=30),\n",
        "        TitleExtractor(),\n",
        "        OpenAIEmbedding()\n",
        "    ],\n",
        "    cache=nodes_embedding_cache,\n",
        ")\n",
        "# will load it from the cache as the transformations are same\n",
        "nodes=pipeline.run(documents=documents)"
      ],
      "metadata": {
        "id": "2fpl9G-dVi1S"
      },
      "execution_count": 62,
      "outputs": []
    },
    {
      "cell_type": "markdown",
      "source": [
        "# Custom Transformations\n",
        "\n",
        "let's include a transformation that removes special characters from the text before generating embeddings"
      ],
      "metadata": {
        "id": "2BPCtS9ZWFdA"
      }
    },
    {
      "cell_type": "code",
      "source": [
        "from llama_index.schema import TransformComponent\n",
        "import re\n",
        "\n",
        "class TextCleaner(TransformComponent):\n",
        "  def __call__(self,nodes,**kwargs):\n",
        "    for node in nodes:\n",
        "      node.text=re.sub(r'[^0-9A-Za-z ]',\"\",node.text)\n",
        "    return nodes\n",
        "pipeline=IngestionPipeline(\n",
        "    transformations=[\n",
        "        SentenceSplitter(chunk_size=128,chunk_overlap=30),\n",
        "        TextCleaner(),\n",
        "    ],\n",
        ")\n",
        "nodes=pipeline.run(documents=documents)"
      ],
      "metadata": {
        "id": "YC_SzZkwV5AJ"
      },
      "execution_count": 63,
      "outputs": []
    },
    {
      "cell_type": "code",
      "source": [
        "nodes[0]"
      ],
      "metadata": {
        "colab": {
          "base_uri": "https://localhost:8080/"
        },
        "id": "vKo00E2pYRrw",
        "outputId": "8f1d26c8-54c3-4457-83a7-9628dd5cb75b"
      },
      "execution_count": 64,
      "outputs": [
        {
          "output_type": "execute_result",
          "data": {
            "text/plain": [
              "TextNode(id_='8ada9aa9-4633-432b-b44c-c7e07fe905f5', embedding=None, metadata={'file_path': 'data/source_files/source.txt', 'file_name': 'source.txt', 'file_type': 'text/plain', 'file_size': 75084, 'creation_date': '2024-01-27', 'last_modified_date': '2024-01-27', 'last_accessed_date': '2024-01-27'}, excluded_embed_metadata_keys=['file_name', 'file_type', 'file_size', 'creation_date', 'last_modified_date', 'last_accessed_date'], excluded_llm_metadata_keys=['file_name', 'file_type', 'file_size', 'creation_date', 'last_modified_date', 'last_accessed_date'], relationships={<NodeRelationship.SOURCE: '1'>: RelatedNodeInfo(node_id='f57958a6-6928-4aa2-888d-3d6cc912f282', node_type=<ObjectType.DOCUMENT: '4'>, metadata={'file_path': 'data/source_files/source.txt', 'file_name': 'source.txt', 'file_type': 'text/plain', 'file_size': 75084, 'creation_date': '2024-01-27', 'last_modified_date': '2024-01-27', 'last_accessed_date': '2024-01-27'}, hash='59bda86706b709582b593684a2383c8e20b73cfba8789b5fc65b0e9d429c4989'), <NodeRelationship.NEXT: '3'>: RelatedNodeInfo(node_id='3c1d899b-ea6f-4508-b8a8-bb4c0cc6cdd4', node_type=<ObjectType.TEXT: '1'>, metadata={}, hash='e99647d69b84b0a13c59268b58406bb00652b41196a27d7b46b56e5d713018ed')}, text='What I Worked OnFebruary 2021Before college the two main things I worked on outside of school were writing and programming I didnt write essays I wrote what beginning writers were supposed to write then and probably still are short stories My stories were awful They had hardly any plot just characters with strong feelings which I imagined made them deepThe first programs I tried writing were on the IBM 1401 that our school district used for what was then called data processing', start_char_idx=2, end_char_idx=504, text_template='{metadata_str}\\n\\n{content}', metadata_template='{key}: {value}', metadata_seperator='\\n')"
            ]
          },
          "metadata": {},
          "execution_count": 64
        }
      ]
    },
    {
      "cell_type": "markdown",
      "source": [
        "# Tokenization and Token Counting"
      ],
      "metadata": {
        "id": "57wCXiZKYoIe"
      }
    },
    {
      "cell_type": "code",
      "source": [
        "import tiktoken\n",
        "from llama_index.callbacks import CallbackManager, TokenCountingHandler\n",
        "from llama_index import ServiceContext, set_global_tokenizer\n",
        "\n",
        "set_global_tokenizer(\n",
        "    tiktoken.encoding_for_model(\"gpt-3.5-turbo\").encode\n",
        ")"
      ],
      "metadata": {
        "id": "ovJy0CloYa2w"
      },
      "execution_count": 65,
      "outputs": []
    },
    {
      "cell_type": "code",
      "source": [
        "from llama_index import VectorStoreIndex\n",
        "token_counter=TokenCountingHandler(\n",
        "    verbose=False,\n",
        ")\n",
        "callback_manager=CallbackManager([token_counter])"
      ],
      "metadata": {
        "id": "hYIzu9gNZ6Wg"
      },
      "execution_count": 66,
      "outputs": []
    },
    {
      "cell_type": "code",
      "source": [
        "service_context=ServiceContext.from_defaults(\n",
        "    callback_manager=callback_manager\n",
        ")"
      ],
      "metadata": {
        "id": "BGXDx75patmc"
      },
      "execution_count": 67,
      "outputs": []
    },
    {
      "cell_type": "code",
      "source": [
        "index=VectorStoreIndex(\n",
        "    nodes, service_context=service_context\n",
        ")"
      ],
      "metadata": {
        "id": "brxSTMvjaYk-"
      },
      "execution_count": 68,
      "outputs": []
    },
    {
      "cell_type": "markdown",
      "source": [
        "# you can access token count directly"
      ],
      "metadata": {
        "id": "1KDx5NODb6T0"
      }
    },
    {
      "cell_type": "code",
      "source": [
        "token_counter.total_embedding_token_count"
      ],
      "metadata": {
        "colab": {
          "base_uri": "https://localhost:8080/"
        },
        "id": "trTsTdkCblgZ",
        "outputId": "5a1ede4c-e389-4135-90d2-503ad3d20d92"
      },
      "execution_count": 69,
      "outputs": [
        {
          "output_type": "execute_result",
          "data": {
            "text/plain": [
              "18949"
            ]
          },
          "metadata": {},
          "execution_count": 69
        }
      ]
    },
    {
      "cell_type": "markdown",
      "source": [
        "#reset token counter\n",
        "\n",
        "because while querying we dont want to include the embedding token counter"
      ],
      "metadata": {
        "id": "5K3PG9b1gou_"
      }
    },
    {
      "cell_type": "code",
      "source": [
        "token_counter.reset_counts()"
      ],
      "metadata": {
        "id": "UYrVcyX4b2kh"
      },
      "execution_count": 70,
      "outputs": []
    },
    {
      "cell_type": "code",
      "source": [
        "token_counter.total_embedding_token_count"
      ],
      "metadata": {
        "colab": {
          "base_uri": "https://localhost:8080/"
        },
        "id": "DwSr4cCXgkBB",
        "outputId": "46027b44-261c-471f-86b6-fd812e1b06c6"
      },
      "execution_count": 71,
      "outputs": [
        {
          "output_type": "execute_result",
          "data": {
            "text/plain": [
              "0"
            ]
          },
          "metadata": {},
          "execution_count": 71
        }
      ]
    },
    {
      "cell_type": "code",
      "source": [
        "response = index.as_query_engine().query(\"what did the author do growing up\")\n",
        "\n",
        "print(\n",
        "    \"Embedding Tokens\",\n",
        "    token_counter.total_embedding_token_count,\n",
        "    \"\\n\",\n",
        "    \"LLM prompt Tokens:\",\n",
        "    token_counter.prompt_llm_token_count,\n",
        "    \"\\n\",\n",
        "    \"LLM completion task:\",\n",
        "    token_counter.completion_llm_token_count,\n",
        "    \"\\n\",\n",
        "    \"Total LLM Token count:\",\n",
        "    token_counter.total_llm_token_count,\n",
        ")"
      ],
      "metadata": {
        "colab": {
          "base_uri": "https://localhost:8080/"
        },
        "id": "IJ8c2DcagnIC",
        "outputId": "64ca13a5-fe01-48cf-ff12-f5710b3d9327"
      },
      "execution_count": 72,
      "outputs": [
        {
          "output_type": "stream",
          "name": "stdout",
          "text": [
            "Embedding Tokens 7 \n",
            " LLM prompt Tokens: 341 \n",
            " LLM completion task: 54 \n",
            " Total LLM Token count: 395\n"
          ]
        }
      ]
    },
    {
      "cell_type": "code",
      "source": [],
      "metadata": {
        "id": "fPFildCIiiPE"
      },
      "execution_count": null,
      "outputs": []
    }
  ]
}